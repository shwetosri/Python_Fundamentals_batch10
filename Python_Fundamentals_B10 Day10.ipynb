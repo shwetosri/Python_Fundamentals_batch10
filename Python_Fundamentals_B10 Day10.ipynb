{
 "cells": [
  {
   "cell_type": "code",
   "execution_count": 3,
   "metadata": {},
   "outputs": [
    {
     "name": "stdout",
     "output_type": "stream",
     "text": [
      "Joey's favourite place is New York\n"
     ]
    }
   ],
   "source": [
    "# Dictionaries of similar objects\n",
    "\n",
    "fav_places = {'Joey':'new york','Phoebe':'london','Chandler':'las vegas','Rachel':'paris'}\n",
    "\n",
    "place = fav_places['Joey'].title()\n",
    "\n",
    "print(f\"Joey's favourite place is {place}\")"
   ]
  },
  {
   "cell_type": "code",
   "execution_count": 7,
   "metadata": {},
   "outputs": [
    {
     "name": "stdout",
     "output_type": "stream",
     "text": [
      "\n",
      "x: Joey\n",
      "\n",
      "y: new york\n",
      "\n",
      "x: Phoebe\n",
      "\n",
      "y: london\n",
      "\n",
      "x: Chandler\n",
      "\n",
      "y: las vegas\n",
      "\n",
      "x: Rachel\n",
      "\n",
      "y: paris\n"
     ]
    }
   ],
   "source": [
    "fav_places = {'Joey':'new york',\n",
    "              'Phoebe':'london',\n",
    "              'Chandler':'las vegas',\n",
    "              'Rachel':'paris'}\n",
    "\n",
    "for x,y in fav_places.items():\n",
    "    print(f\"\\nx: {x}\")\n",
    "    print(f\"\\ny: {y}\")"
   ]
  },
  {
   "cell_type": "code",
   "execution_count": 8,
   "metadata": {},
   "outputs": [
    {
     "name": "stdout",
     "output_type": "stream",
     "text": [
      "Joey\n",
      "Phoebe\n",
      "Chandler\n",
      "Rachel\n"
     ]
    }
   ],
   "source": [
    "# only to get keys\n",
    "\n",
    "for x in fav_places.keys():\n",
    "    print(x)"
   ]
  },
  {
   "cell_type": "code",
   "execution_count": 9,
   "metadata": {},
   "outputs": [
    {
     "name": "stdout",
     "output_type": "stream",
     "text": [
      "new york\n",
      "london\n",
      "las vegas\n",
      "paris\n"
     ]
    }
   ],
   "source": [
    "# to get only values\n",
    "\n",
    "for y in fav_places.values():\n",
    "    print(y)"
   ]
  },
  {
   "cell_type": "code",
   "execution_count": null,
   "metadata": {},
   "outputs": [],
   "source": []
  }
 ],
 "metadata": {
  "kernelspec": {
   "display_name": "Python 3",
   "language": "python",
   "name": "python3"
  },
  "language_info": {
   "codemirror_mode": {
    "name": "ipython",
    "version": 3
   },
   "file_extension": ".py",
   "mimetype": "text/x-python",
   "name": "python",
   "nbconvert_exporter": "python",
   "pygments_lexer": "ipython3",
   "version": "3.7.4"
  }
 },
 "nbformat": 4,
 "nbformat_minor": 2
}
