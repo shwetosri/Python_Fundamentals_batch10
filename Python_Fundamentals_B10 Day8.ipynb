{
 "cells": [
  {
   "cell_type": "code",
   "execution_count": null,
   "metadata": {},
   "outputs": [],
   "source": [
    "#dictionary"
   ]
  },
  {
   "cell_type": "code",
   "execution_count": 1,
   "metadata": {},
   "outputs": [
    {
     "name": "stdout",
     "output_type": "stream",
     "text": [
      "{'Name': 'John', 'Age': 30, 'Country': 'USA'}\n",
      "<class 'dict'>\n"
     ]
    }
   ],
   "source": [
    "Employee = {'Name' : 'John', 'Age' :30, 'Country' : 'USA'}\n",
    "\n",
    "print(Employee)\n",
    "\n",
    "print(type(Employee))"
   ]
  },
  {
   "cell_type": "code",
   "execution_count": 4,
   "metadata": {},
   "outputs": [
    {
     "name": "stdout",
     "output_type": "stream",
     "text": [
      "John\n"
     ]
    }
   ],
   "source": [
    "#get single value\n",
    "\n",
    "print(Employee['Name'])"
   ]
  },
  {
   "cell_type": "code",
   "execution_count": 6,
   "metadata": {},
   "outputs": [
    {
     "name": "stdout",
     "output_type": "stream",
     "text": [
      "John's age is now 30 years\n"
     ]
    }
   ],
   "source": [
    "#code enhancement\n",
    "\n",
    "new_age = Employee['Age']\n",
    "\n",
    "print(f\"John's age is now {new_age} years\")"
   ]
  },
  {
   "cell_type": "code",
   "execution_count": 7,
   "metadata": {},
   "outputs": [
    {
     "name": "stdout",
     "output_type": "stream",
     "text": [
      "{'Name': 'Katy', 'Age': 25}\n"
     ]
    }
   ],
   "source": [
    "#starting with an empty dictionary\n",
    "\n",
    "New_Employee = {} # empty dictionary initialization\n",
    "\n",
    "New_Employee['Name'] = 'Katy'\n",
    "\n",
    "New_Employee['Age'] = 25\n",
    "\n",
    "print(New_Employee)"
   ]
  },
  {
   "cell_type": "code",
   "execution_count": 8,
   "metadata": {},
   "outputs": [
    {
     "name": "stdout",
     "output_type": "stream",
     "text": [
      "{'Name': 'Katy', 'Age': 25, 'Country': 'Paris', 'Company': 'Google'}\n"
     ]
    }
   ],
   "source": [
    "# add new key value pairs to dictionary\n",
    "\n",
    "New_Employee['Country'] = 'Paris'\n",
    "New_Employee['Company'] = 'Google'\n",
    "\n",
    "print(New_Employee)"
   ]
  },
  {
   "cell_type": "code",
   "execution_count": 9,
   "metadata": {},
   "outputs": [
    {
     "name": "stdout",
     "output_type": "stream",
     "text": [
      "{'Name': 'Katy', 'Age': 28, 'Country': 'England', 'Company': 'Google'}\n"
     ]
    }
   ],
   "source": [
    "# modify values\n",
    "\n",
    "New_Employee['Country'] = 'England'\n",
    "New_Employee['Age'] = 28\n",
    "\n",
    "print(New_Employee)"
   ]
  },
  {
   "cell_type": "code",
   "execution_count": 10,
   "metadata": {},
   "outputs": [
    {
     "name": "stdout",
     "output_type": "stream",
     "text": [
      "{'Name': 'Katy', 'Age': 28, 'Country': 'England'}\n"
     ]
    }
   ],
   "source": [
    "# remove elements from Dict\n",
    "\n",
    "del New_Employee['Company']\n",
    "\n",
    "print(New_Employee)"
   ]
  },
  {
   "cell_type": "code",
   "execution_count": null,
   "metadata": {},
   "outputs": [],
   "source": []
  }
 ],
 "metadata": {
  "kernelspec": {
   "display_name": "Python 3",
   "language": "python",
   "name": "python3"
  },
  "language_info": {
   "codemirror_mode": {
    "name": "ipython",
    "version": 3
   },
   "file_extension": ".py",
   "mimetype": "text/x-python",
   "name": "python",
   "nbconvert_exporter": "python",
   "pygments_lexer": "ipython3",
   "version": "3.7.4"
  }
 },
 "nbformat": 4,
 "nbformat_minor": 2
}
