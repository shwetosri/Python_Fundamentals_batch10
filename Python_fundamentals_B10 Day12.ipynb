{
 "cells": [
  {
   "cell_type": "code",
   "execution_count": 2,
   "metadata": {},
   "outputs": [
    {
     "name": "stdout",
     "output_type": "stream",
     "text": [
      "Hello\n"
     ]
    }
   ],
   "source": [
    "# introduction to functions\n",
    "\n",
    "def greeting():\n",
    "    \"\"\"Display a simple greeting\"\"\"  # docsting used to commet inside a function\n",
    "    print(\"Hello\")\n",
    "\n",
    "greeting() #function call"
   ]
  },
  {
   "cell_type": "code",
   "execution_count": 14,
   "metadata": {},
   "outputs": [],
   "source": [
    "# greet a user logging into a site\n",
    "\n",
    "def greeting_user(username): #function defined with parameters\n",
    "    \"\"\"Display a greeting message to the user\"\"\"\n",
    "    print(f\"Welcome {username.title()}\")"
   ]
  },
  {
   "cell_type": "code",
   "execution_count": 16,
   "metadata": {},
   "outputs": [
    {
     "name": "stdout",
     "output_type": "stream",
     "text": [
      "Welcome Shwetosri\n"
     ]
    }
   ],
   "source": [
    "greeting_user('shwetosri') #passing arguments"
   ]
  },
  {
   "cell_type": "code",
   "execution_count": 17,
   "metadata": {},
   "outputs": [
    {
     "name": "stdout",
     "output_type": "stream",
     "text": [
      "Welcome John\n"
     ]
    }
   ],
   "source": [
    "greeting_user('John')"
   ]
  },
  {
   "cell_type": "code",
   "execution_count": 19,
   "metadata": {},
   "outputs": [],
   "source": [
    "#Passing arguments\n",
    "1. Positional arguments\n",
    "2. Keyword arguments"
   ]
  },
  {
   "cell_type": "code",
   "execution_count": 21,
   "metadata": {},
   "outputs": [],
   "source": [
    "def describe_pet(animal_type, animal_name):\n",
    "    \"\"\"Display information of pet\"\"\"\n",
    "    print(f\"\\nI have a pet {animal_type}\")\n",
    "    print(f\"\\n My {animal_type}'s name is {animal_name}\")"
   ]
  },
  {
   "cell_type": "code",
   "execution_count": 22,
   "metadata": {},
   "outputs": [
    {
     "name": "stdout",
     "output_type": "stream",
     "text": [
      "\n",
      "I have a pet dog\n",
      "\n",
      " My dog's name is Donut\n"
     ]
    }
   ],
   "source": [
    "describe_pet('dog','Donut')"
   ]
  },
  {
   "cell_type": "code",
   "execution_count": 23,
   "metadata": {},
   "outputs": [
    {
     "name": "stdout",
     "output_type": "stream",
     "text": [
      "\n",
      "I have a pet dog\n",
      "\n",
      " My dog's name is Mozzarella\n"
     ]
    }
   ],
   "source": [
    "describe_pet(animal_type='dog',animal_name='Mozzarella')"
   ]
  },
  {
   "cell_type": "code",
   "execution_count": 24,
   "metadata": {},
   "outputs": [
    {
     "ename": "SyntaxError",
     "evalue": "non-default argument follows default argument (<ipython-input-24-ce6d70b8c295>, line 1)",
     "output_type": "error",
     "traceback": [
      "\u001b[1;36m  File \u001b[1;32m\"<ipython-input-24-ce6d70b8c295>\"\u001b[1;36m, line \u001b[1;32m1\u001b[0m\n\u001b[1;33m    def describe_pet(animal_type='dog', animal_name):\u001b[0m\n\u001b[1;37m                    ^\u001b[0m\n\u001b[1;31mSyntaxError\u001b[0m\u001b[1;31m:\u001b[0m non-default argument follows default argument\n"
     ]
    }
   ],
   "source": [
    "def describe_pet(animal_type='dog', animal_name):\n",
    "    \"\"\"Display information of pet\"\"\"\n",
    "    print(f\"\\nI have a pet {animal_type}\")\n",
    "    print(f\"\\n My {animal_type}'s name is {animal_name}\")"
   ]
  },
  {
   "cell_type": "code",
   "execution_count": 26,
   "metadata": {},
   "outputs": [],
   "source": [
    "def describe_pet(animal_name, animal_type='dog'): #value should be past at the end parameter in the list\n",
    "    \"\"\"Display information of pet\"\"\"\n",
    "    print(f\"\\nI have a pet {animal_type}\")\n",
    "    print(f\"\\n My {animal_type}'s name is {animal_name}\")"
   ]
  },
  {
   "cell_type": "code",
   "execution_count": 27,
   "metadata": {},
   "outputs": [
    {
     "name": "stdout",
     "output_type": "stream",
     "text": [
      "\n",
      "I have a pet dog\n",
      "\n",
      " My dog's name is Mozzarella\n"
     ]
    }
   ],
   "source": [
    "describe_pet('Mozzarella')"
   ]
  },
  {
   "cell_type": "code",
   "execution_count": 28,
   "metadata": {},
   "outputs": [
    {
     "name": "stdout",
     "output_type": "stream",
     "text": [
      "\n",
      "I have a pet Rabbit\n",
      "\n",
      " My Rabbit's name is Hugsy\n"
     ]
    }
   ],
   "source": [
    "describe_pet('Hugsy','Rabbit')"
   ]
  },
  {
   "cell_type": "code",
   "execution_count": 29,
   "metadata": {},
   "outputs": [],
   "source": [
    "# function with retuen values\n",
    "\n",
    "def get_formatted_name(first_name,last_name):\n",
    "    \"\"\"return full name, neatly formatted\"\"\"\n",
    "    full_name = f\"{first_name} {last_name}\"\n",
    "    return full_name"
   ]
  },
  {
   "cell_type": "code",
   "execution_count": 30,
   "metadata": {},
   "outputs": [
    {
     "ename": "TypeError",
     "evalue": "get_formatted_name() missing 2 required positional arguments: 'first_name' and 'last_name'",
     "output_type": "error",
     "traceback": [
      "\u001b[1;31m---------------------------------------------------------------------------\u001b[0m",
      "\u001b[1;31mTypeError\u001b[0m                                 Traceback (most recent call last)",
      "\u001b[1;32m<ipython-input-30-17d6b9372cc6>\u001b[0m in \u001b[0;36m<module>\u001b[1;34m\u001b[0m\n\u001b[1;32m----> 1\u001b[1;33m \u001b[0mget_formatted_name\u001b[0m\u001b[1;33m(\u001b[0m\u001b[1;33m)\u001b[0m\u001b[1;33m\u001b[0m\u001b[1;33m\u001b[0m\u001b[0m\n\u001b[0m",
      "\u001b[1;31mTypeError\u001b[0m: get_formatted_name() missing 2 required positional arguments: 'first_name' and 'last_name'"
     ]
    }
   ],
   "source": [
    "get_formatted_name()"
   ]
  },
  {
   "cell_type": "code",
   "execution_count": 31,
   "metadata": {},
   "outputs": [
    {
     "data": {
      "text/plain": [
       "'Shwetosri Saha'"
      ]
     },
     "execution_count": 31,
     "metadata": {},
     "output_type": "execute_result"
    }
   ],
   "source": [
    "get_formatted_name('Shwetosri','Saha')"
   ]
  },
  {
   "cell_type": "code",
   "execution_count": null,
   "metadata": {},
   "outputs": [],
   "source": []
  }
 ],
 "metadata": {
  "kernelspec": {
   "display_name": "Python 3",
   "language": "python",
   "name": "python3"
  },
  "language_info": {
   "codemirror_mode": {
    "name": "ipython",
    "version": 3
   },
   "file_extension": ".py",
   "mimetype": "text/x-python",
   "name": "python",
   "nbconvert_exporter": "python",
   "pygments_lexer": "ipython3",
   "version": "3.7.4"
  }
 },
 "nbformat": 4,
 "nbformat_minor": 2
}
